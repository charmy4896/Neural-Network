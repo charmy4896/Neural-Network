{
  "nbformat": 4,
  "nbformat_minor": 0,
  "metadata": {
    "colab": {
      "name": "NN_MNIST.ipynb",
      "version": "0.3.2",
      "provenance": [],
      "collapsed_sections": [
        "s_IiMzw39pqC",
        "vyHj5vGtigBs",
        "pAQAbdLtn0ir"
      ]
    },
    "kernelspec": {
      "name": "python3",
      "display_name": "Python 3"
    }
  },
  "cells": [
    {
      "metadata": {
        "id": "s_IiMzw39pqC",
        "colab_type": "text"
      },
      "cell_type": "markdown",
      "source": [
        "# **MNIST DATASET**"
      ]
    },
    {
      "metadata": {
        "colab_type": "text",
        "id": "D5u8Ujvdzt4y"
      },
      "cell_type": "markdown",
      "source": [
        "**Importing Data Set**\n",
        "\n",
        "---\n",
        "\n"
      ]
    },
    {
      "metadata": {
        "id": "_Ux2Fzwgk1Pp",
        "colab_type": "code",
        "colab": {}
      },
      "cell_type": "code",
      "source": [
        "from pydrive.auth import GoogleAuth\n",
        "from pydrive.drive import GoogleDrive\n",
        "from google.colab import auth\n",
        "from oauth2client.client import GoogleCredentials\n",
        "\n",
        "from matplotlib import pyplot as plt\n",
        "import pandas as pd\n",
        "from copy import deepcopy\n",
        "import numpy as np\n",
        "\n",
        "def GoogleDriveAuth(ID):\n",
        "    auth.authenticate_user()\n",
        "    gauth = GoogleAuth()\n",
        "    gauth.credentials = GoogleCredentials.get_application_default()\n",
        "    drive = GoogleDrive(gauth)\n",
        "    file = drive.CreateFile({'id': ID})\n",
        "    return file\n",
        "  \n",
        " #MNIST \n",
        "File_ID = '1EinH3Q28iwbM9SUceTEiTxz-_KkJXmIh'\n",
        "file_name = GoogleDriveAuth(File_ID)\n",
        "file_name.GetContentFile('mnist_train.csv')\n",
        "train_data = pd.read_csv('mnist_train.csv',delimiter=\",\",header=None)\n",
        "train_data = pd.DataFrame(train_data).as_matrix()\n",
        "\n",
        "\n",
        "File_ID = '1HT80t8kyEn9Fvp80OPfpVb1PlsfN5a6o'\n",
        "file_name = GoogleDriveAuth(File_ID)\n",
        "file_name.GetContentFile('mnist_test.csv')\n",
        "test_data = pd.read_csv('mnist_test.csv',delimiter=\",\",header=None)\n",
        "test_data = pd.DataFrame(test_data).as_matrix()\n"
      ],
      "execution_count": 0,
      "outputs": []
    },
    {
      "metadata": {
        "colab_type": "text",
        "id": "tnJ0iiI9zrgS"
      },
      "cell_type": "markdown",
      "source": [
        "**One-Hot Function**\n",
        "\n",
        "---\n",
        "\n"
      ]
    },
    {
      "metadata": {
        "id": "3Z11FgITzobn",
        "colab_type": "code",
        "colab": {}
      },
      "cell_type": "code",
      "source": [
        "def one_hot(a):\n",
        "  a=a.reshape(a.shape[0]).astype(int)\n",
        "  b = np.ones((a.shape[0], different_labels))*0.0\n",
        "  b[np.arange(a.shape[0]), a] =1\n",
        "  return b"
      ],
      "execution_count": 0,
      "outputs": []
    },
    {
      "metadata": {
        "colab_type": "text",
        "id": "LDEdtCJMkw18"
      },
      "cell_type": "markdown",
      "source": [
        "**Normalization**\n",
        "\n",
        "---\n",
        "\n"
      ]
    },
    {
      "metadata": {
        "colab_type": "code",
        "outputId": "0cccf80a-13e6-403c-93f2-a12f377d03a1",
        "id": "RaDzMkW5kw2B",
        "colab": {
          "base_uri": "https://localhost:8080/",
          "height": 293
        }
      },
      "cell_type": "code",
      "source": [
        "%matplotlib inline\n",
        "import numpy as np\n",
        "import matplotlib.pyplot as plt\n",
        "\n",
        "image_size = 28 # width and length\n",
        "different_labels = 10 # [0-9]\n",
        "image_pixels = image_size * image_size\n",
        "\n",
        "\n",
        "print('BEFORE NORMALIZATION')\n",
        "print(train_data[0][150:200])\n",
        "\n",
        "#normalize the data\n",
        "norm = 255\n",
        "train_imgs = np.asfarray(train_data[:,1:]) / norm  #train input\n",
        "test_imgs = np.asfarray(test_data[:, 1:]) / norm  #test input\n",
        "train_labels = np.asfarray(train_data[:, :1])  #train output\n",
        "test_labels = np.asfarray(test_data[:, :1])  #test output\n",
        "\n",
        "\n",
        "print('\\nAFTER NORMALIZATION')\n",
        "print(train_imgs[0][150:200])\n"
      ],
      "execution_count": 56,
      "outputs": [
        {
          "output_type": "stream",
          "text": [
            "BEFORE NORMALIZATION\n",
            "[  0   0   0   3  18  18  18 126 136 175  26 166 255 247 127   0   0   0\n",
            "   0   0   0   0   0   0   0   0   0  30  36  94 154 170 253 253 253 253\n",
            " 253 225 172 253 242 195  64   0   0   0   0   0   0   0]\n",
            "\n",
            "AFTER NORMALIZATION\n",
            "[0.         0.         0.01176471 0.07058824 0.07058824 0.07058824\n",
            " 0.49411765 0.53333333 0.68627451 0.10196078 0.65098039 1.\n",
            " 0.96862745 0.49803922 0.         0.         0.         0.\n",
            " 0.         0.         0.         0.         0.         0.\n",
            " 0.         0.         0.11764706 0.14117647 0.36862745 0.60392157\n",
            " 0.66666667 0.99215686 0.99215686 0.99215686 0.99215686 0.99215686\n",
            " 0.88235294 0.6745098  0.99215686 0.94901961 0.76470588 0.25098039\n",
            " 0.         0.         0.         0.         0.         0.\n",
            " 0.         0.        ]\n"
          ],
          "name": "stdout"
        }
      ]
    },
    {
      "metadata": {
        "colab_type": "text",
        "id": "f1pszV9bkw2W"
      },
      "cell_type": "markdown",
      "source": [
        "**ONE-HOT ENCODING **\n",
        "\n",
        "---\n",
        "\n"
      ]
    },
    {
      "metadata": {
        "colab_type": "code",
        "outputId": "3a705a30-61b2-431d-b639-30799b195bd8",
        "id": "wNXph9KZkw2X",
        "colab": {
          "base_uri": "https://localhost:8080/",
          "height": 644
        }
      },
      "cell_type": "code",
      "source": [
        "#ONE-HOT ENCODING\n",
        "\n",
        "train_1_hot=one_hot(train_labels)\n",
        "test_1_hot=one_hot(test_labels)\n",
        "\n",
        "\n",
        "labels,count=np.unique(train_labels,return_counts=True)\n",
        "\n",
        "print('\\nLABELS\\n',labels)\n",
        "print('\\nCOUNTS\\n',count)\n",
        "print('\\nONE_HOT ENCODING OF LABELS\\n',one_hot(labels),'\\n')\n",
        "\n",
        "plt.plot(labels,count)\n",
        "plt.xlabel('LABELS')\n",
        "plt.ylabel('COUNTS')\n",
        "plt.title('COUNT OF EACH LABEL IN TRAINING DATA')\n",
        "plt.show()"
      ],
      "execution_count": 58,
      "outputs": [
        {
          "output_type": "stream",
          "text": [
            "\n",
            "LABELS\n",
            " [0. 1. 2. 3. 4. 5. 6. 7. 8. 9.]\n",
            "\n",
            "COUNTS\n",
            " [5923 6742 5958 6131 5842 5421 5918 6265 5851 5949]\n",
            "\n",
            "ONE_HOT ENCODING OF LABELS\n",
            " [[1. 0. 0. 0. 0. 0. 0. 0. 0. 0.]\n",
            " [0. 1. 0. 0. 0. 0. 0. 0. 0. 0.]\n",
            " [0. 0. 1. 0. 0. 0. 0. 0. 0. 0.]\n",
            " [0. 0. 0. 1. 0. 0. 0. 0. 0. 0.]\n",
            " [0. 0. 0. 0. 1. 0. 0. 0. 0. 0.]\n",
            " [0. 0. 0. 0. 0. 1. 0. 0. 0. 0.]\n",
            " [0. 0. 0. 0. 0. 0. 1. 0. 0. 0.]\n",
            " [0. 0. 0. 0. 0. 0. 0. 1. 0. 0.]\n",
            " [0. 0. 0. 0. 0. 0. 0. 0. 1. 0.]\n",
            " [0. 0. 0. 0. 0. 0. 0. 0. 0. 1.]] \n",
            "\n"
          ],
          "name": "stdout"
        },
        {
          "output_type": "display_data",
          "data": {
            "image/png": "[encoded data removed]",
            "text/plain": [
              "<Figure size 432x288 with 1 Axes>"
            ]
          },
          "metadata": {
            "tags": []
          }
        }
      ]
    },
    {
      "metadata": {
        "colab_type": "text",
        "id": "FiVFnHTdfZXp"
      },
      "cell_type": "markdown",
      "source": [
        "**Initialize Weights **\n",
        "\n",
        "---\n",
        "\n"
      ]
    },
    {
      "metadata": {
        "id": "0tQv9BW_I4TE",
        "colab_type": "code",
        "colab": {}
      },
      "cell_type": "code",
      "source": [
        "def initialize_weights():        \n",
        "  weights_matrices = []        \n",
        "  layer_index = 1\n",
        "  no_of_layers = len(structure)\n",
        "  while layer_index < no_of_layers:\n",
        "    nodes_in = structure[layer_index-1]\n",
        "    nodes_out = structure[layer_index]\n",
        "    wm=np.random.rand(nodes_out,nodes_in+1)*np.sqrt(2/nodes_in)\n",
        "    weights_matrices.append(wm)\n",
        "    layer_index += 1\n",
        "  return weights_matrices"
      ],
      "execution_count": 0,
      "outputs": []
    },
    {
      "metadata": {
        "colab_type": "text",
        "id": "TAc7GG6Yf5Eg"
      },
      "cell_type": "markdown",
      "source": [
        "**Activation-Function**\n",
        "\n",
        "---\n",
        "\n"
      ]
    },
    {
      "metadata": {
        "id": "wQNjRtCFTBre",
        "colab_type": "code",
        "colab": {}
      },
      "cell_type": "code",
      "source": [
        "def sigmoid(x):\n",
        "    return 1 / (1 + np.e ** -x)\n",
        "activation_function = sigmoid"
      ],
      "execution_count": 0,
      "outputs": []
    },
    {
      "metadata": {
        "colab_type": "text",
        "id": "bOywjjL4gVW_"
      },
      "cell_type": "markdown",
      "source": [
        "**Forward And Backward Propogation**\n",
        "\n",
        "---\n",
        "\n"
      ]
    },
    {
      "metadata": {
        "id": "t82eLvp1MFHV",
        "colab_type": "code",
        "colab": {}
      },
      "cell_type": "code",
      "source": [
        "#Forward and Backward Propogation\n",
        "def train(input_vector, output_vector):\n",
        "                   \n",
        "  #Forward Propogation\n",
        "  no_of_layers = len(structure)        \n",
        "  input_vector = np.array(input_vector, ndmin=2).T        \n",
        "  layer_index = 0        \n",
        "  in_vectors = [input_vector]    #stores the input vector at each layer \n",
        "        \n",
        "  while layer_index < no_of_layers - 1:\n",
        "    # adding bias node to the end of the 'input'_vector\n",
        "    in_vectors[-1] = np.concatenate( (in_vectors[-1],[[1]]) )\n",
        "    net = np.dot(weights_matrices[layer_index], in_vectors[-1])\n",
        "    out = activation_function(net)\n",
        "    in_vectors.append(out)   \n",
        "    layer_index += 1        \n",
        "        \n",
        "        \n",
        "        \n",
        "  #Backward Propogation\n",
        "  layer_index = no_of_layers - 1\n",
        "  output_vector = np.array(output_vector, ndmin=2).T\n",
        "  # The input vectors to the various layers\n",
        "  output_errors = output_vector - out  \n",
        "  while layer_index > 0:\n",
        "    out = in_vectors[layer_index]\n",
        "    ins = in_vectors[layer_index-1]\n",
        "    if not layer_index==(no_of_layers-1):\n",
        "      out = out[:-1,:].copy()\n",
        "    tmp = output_errors * out * (1.0 - out)     \n",
        "    tmp = np.dot(tmp, ins.T)\n",
        "                  \n",
        "    weights_matrices[layer_index-1] += learning_rate * tmp\n",
        "    output_errors = np.dot(weights_matrices[layer_index-1].T,output_errors)\n",
        "    output_errors = output_errors[:-1,:]\n",
        "    layer_index -= 1\n",
        "       "
      ],
      "execution_count": 0,
      "outputs": []
    },
    {
      "metadata": {
        "colab_type": "text",
        "id": "fg_5gkt_gdye"
      },
      "cell_type": "markdown",
      "source": [
        "**Accuracy Function**\n",
        "\n",
        "---\n",
        "\n"
      ]
    },
    {
      "metadata": {
        "id": "NDgtoC1B6eZf",
        "colab_type": "code",
        "colab": {}
      },
      "cell_type": "code",
      "source": [
        "def accuracy(imgs,output):\n",
        "  crct = 0\n",
        "  clist=[]\n",
        "  for i in range(len(imgs)):\n",
        "    predicted= (cost_function(imgs[i]))[1]\n",
        "    if predicted == output[i]:\n",
        "      crct += 1\n",
        "      clist.append(1)\n",
        "    else:\n",
        "      clist.append(0)\n",
        "  return((crct / len(imgs)),clist)    "
      ],
      "execution_count": 0,
      "outputs": []
    },
    {
      "metadata": {
        "colab_type": "text",
        "id": "g81qoJ0Qj2lI"
      },
      "cell_type": "markdown",
      "source": [
        "**Cost_Function**\n",
        "\n",
        "---\n",
        "\n"
      ]
    },
    {
      "metadata": {
        "id": "xjYbtbNCT4KM",
        "colab_type": "code",
        "colab": {}
      },
      "cell_type": "code",
      "source": [
        "def cost_function(image):\n",
        "  no_of_layers = len(structure)\n",
        "  # adding bias node to the end of the input_vector\n",
        "  image = np.concatenate( (image,[1]) )\n",
        "  ins = np.array(image, ndmin=2).T\n",
        "  layer_index = 1\n",
        "  # The input vectors to the various layers\n",
        "  while layer_index < no_of_layers:\n",
        "    net = np.dot(weights_matrices[layer_index-1],ins)\n",
        "    out = activation_function(net)   \n",
        "    ins = out\n",
        "    ins = np.concatenate( (ins,[[1]]) )          \n",
        "    layer_index += 1\n",
        "  return (np.max(out),np.argmax(out))\n",
        "  #print('Actual=',ans,' Prediction=', np.argmax(out_vector), ' Value',np.max(out_vector))\n",
        "    "
      ],
      "execution_count": 0,
      "outputs": []
    },
    {
      "metadata": {
        "colab_type": "text",
        "id": "lMC7Hgt1j99M"
      },
      "cell_type": "markdown",
      "source": [
        "**Main Function**\n",
        "\n",
        "---\n",
        "\n"
      ]
    },
    {
      "metadata": {
        "id": "6zwrgqAb-XeE",
        "colab_type": "code",
        "outputId": "c9d6dcce-4b78-40e5-8431-1b5cae1ab468",
        "colab": {
          "base_uri": "https://localhost:8080/",
          "height": 237
        }
      },
      "cell_type": "code",
      "source": [
        "#initialization\n",
        "structure=[image_pixels,128,128,different_labels]\n",
        "learning_rate = 0.1\n",
        "weights_matrices=initialize_weights()\n",
        "\n",
        "epochs=10\n",
        "acc=[]\n",
        "e=[]\n",
        "for epoch in range(epochs):  \n",
        "  for i in range(len(train_imgs)):\n",
        "    train(train_imgs[i], train_1_hot[i])\n",
        "  print('EPOCH=',epoch+1,'Accuracy=',end=' ')\n",
        "  acc.append((accuracy(test_imgs,test_labels))[0])\n",
        "  e.append(epoch)\n",
        "  print(acc[epoch])\n",
        "\n"
      ],
      "execution_count": 59,
      "outputs": [
        {
          "output_type": "stream",
          "text": [
            "EPOCH= 1 Accuracy= 0.8831\n",
            "EPOCH= 2 Accuracy= 0.8975\n"
          ],
          "name": "stdout"
        },
        {
          "output_type": "stream",
          "text": [
            "/usr/local/lib/python3.6/dist-packages/ipykernel_launcher.py:2: RuntimeWarning: overflow encountered in power\n",
            "  \n"
          ],
          "name": "stderr"
        },
        {
          "output_type": "stream",
          "text": [
            "EPOCH= 3 Accuracy= 0.9077\n",
            "EPOCH= 4 Accuracy= 0.9018\n",
            "EPOCH= 5 Accuracy= 0.896\n",
            "EPOCH= 6 Accuracy= 0.9131\n",
            "EPOCH= 7 Accuracy= 0.8984\n",
            "EPOCH= 8 Accuracy= 0.9138\n",
            "EPOCH= 9 Accuracy= 0.9024\n",
            "EPOCH= 10 Accuracy= 0.9107\n"
          ],
          "name": "stdout"
        }
      ]
    },
    {
      "metadata": {
        "id": "1Fl1XorAYj90",
        "colab_type": "code",
        "outputId": "ca991871-8fef-4a0b-ed1d-4819229702da",
        "colab": {
          "base_uri": "https://localhost:8080/",
          "height": 295
        }
      },
      "cell_type": "code",
      "source": [
        "plt.plot(e,acc)\n",
        "plt.xlabel('EPOCHS')\n",
        "plt.ylabel('ACCURACY')\n",
        "plt.title('ACCURACY GRAPH')\n",
        "plt.show()"
      ],
      "execution_count": 61,
      "outputs": [
        {
          "output_type": "display_data",
          "data": {
            "image/png": "[encoded data removed]",
            "text/plain": [
              "<Figure size 432x288 with 1 Axes>"
            ]
          },
          "metadata": {
            "tags": []
          }
        }
      ]
    },
    {
      "metadata": {
        "id": "qg51aFJabrYR",
        "colab_type": "code",
        "outputId": "e97319f9-9175-43c6-b8a4-dfc30c413a98",
        "colab": {
          "base_uri": "https://localhost:8080/",
          "height": 109
        }
      },
      "cell_type": "code",
      "source": [
        "#Predicting Value\n",
        "for i in range(5):\n",
        "  highest,predicted=cost_function(test_imgs[i])\n",
        "  print('predicted=',predicted,' value=',highest,' actual=',int(test_labels[i][0]))"
      ],
      "execution_count": 62,
      "outputs": [
        {
          "output_type": "stream",
          "text": [
            "predicted= 7  value= 0.9996541239024191  actual= 7\n",
            "predicted= 2  value= 0.9590401624951768  actual= 2\n",
            "predicted= 1  value= 0.9997702032417608  actual= 1\n",
            "predicted= 0  value= 0.9945531770028281  actual= 0\n",
            "predicted= 4  value= 0.9838444869734042  actual= 4\n"
          ],
          "name": "stdout"
        }
      ]
    },
    {
      "metadata": {
        "id": "tcQBu3kzta_T",
        "colab_type": "text"
      },
      "cell_type": "markdown",
      "source": [
        "Image showing Error"
      ]
    },
    {
      "metadata": {
        "id": "5-Wb7kygnMfk",
        "colab_type": "code",
        "outputId": "50777573-85fa-4937-a3fe-38224d0c4222",
        "colab": {
          "base_uri": "https://localhost:8080/",
          "height": 287
        }
      },
      "cell_type": "code",
      "source": [
        "plt.imshow(test_imgs[8].reshape(28,28))\n",
        "print('Predicted:',cost_function(test_imgs[8])[1],' actual:',int(test_labels[8][0]))"
      ],
      "execution_count": 63,
      "outputs": [
        {
          "output_type": "stream",
          "text": [
            "Predicted: 6  actual: 5\n"
          ],
          "name": "stdout"
        },
        {
          "output_type": "display_data",
          "data": {
            "image/png": "[encoded data removed]",
            "text/plain": [
              "<Figure size 432x288 with 1 Axes>"
            ]
          },
          "metadata": {
            "tags": []
          }
        }
      ]
    },
    {
      "metadata": {
        "colab_type": "code",
        "outputId": "43759308-e43c-4343-ff8d-e5d3affd6e8b",
        "id": "QKHAynG_-GtJ",
        "colab": {
          "base_uri": "https://localhost:8080/",
          "height": 54
        }
      },
      "cell_type": "code",
      "source": [
        "c=[]\n",
        "a,c=(accuracy(test_imgs,test_labels))"
      ],
      "execution_count": 64,
      "outputs": [
        {
          "output_type": "stream",
          "text": [
            "/usr/local/lib/python3.6/dist-packages/ipykernel_launcher.py:2: RuntimeWarning: overflow encountered in power\n",
            "  \n"
          ],
          "name": "stderr"
        }
      ]
    },
    {
      "metadata": {
        "id": "JfjuwCpprAN0",
        "colab_type": "text"
      },
      "cell_type": "markdown",
      "source": [
        "Visulaizing the errors in 10 test images"
      ]
    },
    {
      "metadata": {
        "colab_type": "code",
        "outputId": "f1e557a5-3cb9-4e90-e897-9fa6a52ca33d",
        "id": "i1p0plWE-Gta",
        "colab": {
          "base_uri": "https://localhost:8080/",
          "height": 295
        }
      },
      "cell_type": "code",
      "source": [
        "n=10\n",
        "l= list(range(n))\n",
        "colors=['red','green']\n",
        "for i in range(n):\n",
        "    plt.scatter(l[i],c[i], s=100, color = colors[c[i]])\n",
        "plt.xlabel('images')\n",
        "plt.ylabel('classification')\n",
        "plt.title('CORRECT Vs WRONG FOR 10 MNIST IMAGES')\n",
        "plt.show()"
      ],
      "execution_count": 65,
      "outputs": [
        {
          "output_type": "display_data",
          "data": {
            "image/png": "[encoded data removed]",
            "text/plain": [
              "<Figure size 432x288 with 1 Axes>"
            ]
          },
          "metadata": {
            "tags": []
          }
        }
      ]
    },
    {
      "metadata": {
        "colab_type": "text",
        "id": "OHdZBaEwrMQr"
      },
      "cell_type": "markdown",
      "source": [
        "Visulaizing the errors in 100 test images"
      ]
    },
    {
      "metadata": {
        "colab_type": "code",
        "outputId": "daecc531-1156-4d26-e0da-04b5abc3fe08",
        "id": "Sua7xX2h-Gtu",
        "colab": {
          "base_uri": "https://localhost:8080/",
          "height": 295
        }
      },
      "cell_type": "code",
      "source": [
        "n=100\n",
        "l= list(range(n))\n",
        "colors=['red','green']\n",
        "for i in range(n):\n",
        "    plt.scatter(l[i],c[i], s=10, color = colors[c[i]])\n",
        "plt.xlabel('images')\n",
        "plt.ylabel('classification')\n",
        "plt.title('CORRECT Vs WRONG FOR 100 MNIST IMAGES')\n",
        "plt.show()"
      ],
      "execution_count": 66,
      "outputs": [
        {
          "output_type": "display_data",
          "data": {
            "image/png": "[encoded data removed]",
            "text/plain": [
              "<Figure size 432x288 with 1 Axes>"
            ]
          },
          "metadata": {
            "tags": []
          }
        }
      ]
    },
    {
      "metadata": {
        "colab_type": "text",
        "id": "yp0Ngj44rOlg"
      },
      "cell_type": "markdown",
      "source": [
        "Visulaizing the errors in 1000 test images"
      ]
    },
    {
      "metadata": {
        "colab_type": "code",
        "outputId": "54943730-eee2-436d-9f7f-37f19deb0e9a",
        "id": "ufG_BXun-coF",
        "colab": {
          "base_uri": "https://localhost:8080/",
          "height": 295
        }
      },
      "cell_type": "code",
      "source": [
        "n=1000\n",
        "l= list(range(n))\n",
        "colors=['red','green']\n",
        "for i in range(n):\n",
        "    plt.scatter(l[i],c[i], s=1, color = colors[c[i]])\n",
        "plt.xlabel('images')\n",
        "plt.ylabel('classification')\n",
        "plt.title('CORRECT Vs WRONG FOR 1000 MNIST IMAGES')\n",
        "plt.show()"
      ],
      "execution_count": 67,
      "outputs": [
        {
          "output_type": "display_data",
          "data": {
            "image/png": "[encoded data removed]",
            "text/plain": [
              "<Figure size 432x288 with 1 Axes>"
            ]
          },
          "metadata": {
            "tags": []
          }
        }
      ]
    },
    {
      "metadata": {
        "id": "vyHj5vGtigBs",
        "colab_type": "text"
      },
      "cell_type": "markdown",
      "source": [
        "# EMNIST FASHION DATASET"
      ]
    },
    {
      "metadata": {
        "id": "ycIiqhA3isRn",
        "colab_type": "code",
        "colab": {}
      },
      "cell_type": "code",
      "source": [
        "#Fashion Mnist\n",
        "\n",
        "File_ID = '1n3PiMWjovXHemzn3GqtCzByM7HmY-ilt'\n",
        "file_name = GoogleDriveAuth(File_ID)\n",
        "file_name.GetContentFile('fashion-mnist_train.csv')\n",
        "train_data = pd.read_csv('fashion-mnist_train.csv',delimiter=\",\")\n",
        "train_data = pd.DataFrame(train_data).as_matrix()\n",
        "\n",
        "File_ID = '1HK7KkZI05DhNHk8doIPSeEF_vN9RCMAU'\n",
        "file_name = GoogleDriveAuth(File_ID)\n",
        "file_name.GetContentFile('fashion-mnist_test.csv')\n",
        "test_data = pd.read_csv('fashion-mnist_test.csv',delimiter=\",\")\n",
        "test_data = pd.DataFrame(test_data).as_matrix()\n"
      ],
      "execution_count": 0,
      "outputs": []
    },
    {
      "metadata": {
        "colab_type": "text",
        "id": "Q8lBYA1Rk747"
      },
      "cell_type": "markdown",
      "source": [
        "**Normalization for Fashion**\n",
        "\n",
        "---\n",
        "\n"
      ]
    },
    {
      "metadata": {
        "colab_type": "code",
        "outputId": "f9d715b9-86fd-4fdc-ff1c-94f572cd67dd",
        "id": "flfw5llgk74-",
        "colab": {
          "base_uri": "https://localhost:8080/",
          "height": 293
        }
      },
      "cell_type": "code",
      "source": [
        "%matplotlib inline\n",
        "import numpy as np\n",
        "import matplotlib.pyplot as plt\n",
        "\n",
        "image_size = 28 # width and length\n",
        "different_labels = 10 # [0-9]\n",
        "image_pixels = image_size * image_size\n",
        "\n",
        "\n",
        "print('BEFORE NORMALIZATION')\n",
        "print(train_data[0][150:200])\n",
        "\n",
        "#normalize the data\n",
        "norm = 255\n",
        "train_imgs = np.asfarray(train_data[:,1:]) / norm  #train input\n",
        "test_imgs = np.asfarray(test_data[:, 1:]) / norm  #test input\n",
        "train_labels = np.asfarray(train_data[:, :1])  #train output\n",
        "test_labels = np.asfarray(test_data[:, :1])  #test output\n",
        "\n",
        "\n",
        "print('\\nAFTER NORMALIZATION')\n",
        "print(train_imgs[0][150:200])\n"
      ],
      "execution_count": 69,
      "outputs": [
        {
          "output_type": "stream",
          "text": [
            "BEFORE NORMALIZATION\n",
            "[224 215 215 229 108 180 207 214 224 231 249 254  45   0   0   0   0   0\n",
            "   0   0   0   1   0   0 214 222 210 213 224 225 217 220 254 233 219 221\n",
            " 217 223 221 240 254   0   0   1   0   0   0   1   0   0]\n",
            "\n",
            "AFTER NORMALIZATION\n",
            "[0.84313725 0.84313725 0.89803922 0.42352941 0.70588235 0.81176471\n",
            " 0.83921569 0.87843137 0.90588235 0.97647059 0.99607843 0.17647059\n",
            " 0.         0.         0.         0.         0.         0.\n",
            " 0.         0.         0.00392157 0.         0.         0.83921569\n",
            " 0.87058824 0.82352941 0.83529412 0.87843137 0.88235294 0.85098039\n",
            " 0.8627451  0.99607843 0.91372549 0.85882353 0.86666667 0.85098039\n",
            " 0.8745098  0.86666667 0.94117647 0.99607843 0.         0.\n",
            " 0.00392157 0.         0.         0.         0.00392157 0.\n",
            " 0.         0.        ]\n"
          ],
          "name": "stdout"
        }
      ]
    },
    {
      "metadata": {
        "colab_type": "text",
        "id": "GfQVRx2yk75N"
      },
      "cell_type": "markdown",
      "source": [
        "**ONE-HOT ENCODING FOR FASHION **\n",
        "\n",
        "---\n",
        "\n"
      ]
    },
    {
      "metadata": {
        "colab_type": "code",
        "outputId": "3260cf91-e4aa-48d5-8c1f-920b06316341",
        "id": "TZWGNzbOk75P",
        "colab": {
          "base_uri": "https://localhost:8080/",
          "height": 644
        }
      },
      "cell_type": "code",
      "source": [
        "#ONE-HOT ENCODING\n",
        "\n",
        "train_1_hot=one_hot(train_labels)\n",
        "test_1_hot=one_hot(test_labels)\n",
        "\n",
        "\n",
        "labels,count=np.unique(train_labels,return_counts=True)\n",
        "\n",
        "print('\\nLABELS\\n',labels)\n",
        "print('\\nCOUNTS\\n',count)\n",
        "print('\\nONE_HOT ENCODING OF LABELS\\n',one_hot(labels),'\\n')\n",
        "\n",
        "plt.plot(labels,count)\n",
        "plt.xlabel('LABELS')\n",
        "plt.ylabel('COUNTS')\n",
        "plt.title('COUNT OF EACH LABEL IN TRAINING DATA')\n",
        "plt.show()"
      ],
      "execution_count": 70,
      "outputs": [
        {
          "output_type": "stream",
          "text": [
            "\n",
            "LABELS\n",
            " [0. 1. 2. 3. 4. 5. 6. 7. 8. 9.]\n",
            "\n",
            "COUNTS\n",
            " [6000 6000 6000 6000 6000 6000 6000 6000 6000 6000]\n",
            "\n",
            "ONE_HOT ENCODING OF LABELS\n",
            " [[1. 0. 0. 0. 0. 0. 0. 0. 0. 0.]\n",
            " [0. 1. 0. 0. 0. 0. 0. 0. 0. 0.]\n",
            " [0. 0. 1. 0. 0. 0. 0. 0. 0. 0.]\n",
            " [0. 0. 0. 1. 0. 0. 0. 0. 0. 0.]\n",
            " [0. 0. 0. 0. 1. 0. 0. 0. 0. 0.]\n",
            " [0. 0. 0. 0. 0. 1. 0. 0. 0. 0.]\n",
            " [0. 0. 0. 0. 0. 0. 1. 0. 0. 0.]\n",
            " [0. 0. 0. 0. 0. 0. 0. 1. 0. 0.]\n",
            " [0. 0. 0. 0. 0. 0. 0. 0. 1. 0.]\n",
            " [0. 0. 0. 0. 0. 0. 0. 0. 0. 1.]] \n",
            "\n"
          ],
          "name": "stdout"
        },
        {
          "output_type": "display_data",
          "data": {
            "image/png": "[encoded data removed]",
            "text/plain": [
              "<Figure size 432x288 with 1 Axes>"
            ]
          },
          "metadata": {
            "tags": []
          }
        }
      ]
    },
    {
      "metadata": {
        "id": "AbzbNfC6UMMR",
        "colab_type": "code",
        "outputId": "28d2bae7-5ed7-4604-dfb4-805b56a80865",
        "colab": {
          "base_uri": "https://localhost:8080/",
          "height": 327
        }
      },
      "cell_type": "code",
      "source": [
        "import matplotlib.pyplot as plt\n",
        "plt.figure(figsize=(15, 15))\n",
        "for i in range(10):\n",
        "  ax = plt.subplot(1,10,i+1)\n",
        "  plt.imshow(train_imgs[i].reshape(28,28),cmap='viridis')\n",
        "  ax.get_xaxis().set_visible(False)\n",
        "  ax.get_yaxis().set_visible(False)\n",
        "plt.show()\n",
        "\n",
        "print(' ',end=' ')\n",
        "for i in range(10):\n",
        "  print(int(train_labels[i][0]),end='          ')\n",
        "  \n",
        "plt.figure(figsize=(15, 15))\n",
        "for i in range(11,21):\n",
        "  ax = plt.subplot(1,10,i-10)\n",
        "  plt.imshow(train_imgs[i].reshape(28,28),cmap='viridis')\n",
        "  ax.get_xaxis().set_visible(False)\n",
        "  ax.get_yaxis().set_visible(False)\n",
        "plt.show()\n",
        "\n",
        "print(' ',end=' ')\n",
        "for i in range(11,21):\n",
        "  print(int(train_labels[i][0]),end='          ')\n",
        "\n",
        "  \n",
        "plt.figure(figsize=(15, 15))\n",
        "for i in range(21,31):\n",
        "  ax = plt.subplot(1,10,i-20)\n",
        "  plt.imshow(train_imgs[i].reshape(28,28),cmap='viridis')\n",
        "  ax.get_xaxis().set_visible(False)\n",
        "  ax.get_yaxis().set_visible(False)\n",
        "plt.show()\n",
        "\n",
        "print(' ',end=' ')\n",
        "for i in range(21,31):\n",
        "  print(int(train_labels[i][0]),end='          ')"
      ],
      "execution_count": 142,
      "outputs": [
        {
          "output_type": "display_data",
          "data": {
            "image/png": "[encoded data removed]",
            "text/plain": [
              "<Figure size 1080x1080 with 10 Axes>"
            ]
          },
          "metadata": {
            "tags": []
          }
        },
        {
          "output_type": "stream",
          "text": [
            "  2          9          6          0          3          4          4          5          4          8          "
          ],
          "name": "stdout"
        },
        {
          "output_type": "display_data",
          "data": {
            "image/png": "[encoded data removed]",
            "text/plain": [
              "<Figure size 1080x1080 with 10 Axes>"
            ]
          },
          "metadata": {
            "tags": []
          }
        },
        {
          "output_type": "stream",
          "text": [
            "  8          9          0          2          2          9          3          3          3          8          "
          ],
          "name": "stdout"
        },
        {
          "output_type": "display_data",
          "data": {
            "image/png": "[encoded data removed]",
            "text/plain": [
              "<Figure size 1080x1080 with 10 Axes>"
            ]
          },
          "metadata": {
            "tags": []
          }
        },
        {
          "output_type": "stream",
          "text": [
            "  7          4          4          0          4          4          8          7          1          5          "
          ],
          "name": "stdout"
        }
      ]
    },
    {
      "metadata": {
        "colab_type": "code",
        "outputId": "cb51615c-1716-465a-8d0d-6f572db62129",
        "id": "4PE6ARALn2bz",
        "colab": {
          "base_uri": "https://localhost:8080/",
          "height": 237
        }
      },
      "cell_type": "code",
      "source": [
        "#initialization\n",
        "structure=[image_pixels,128,128,different_labels]\n",
        "learning_rate = 0.1\n",
        "weights_matrices=initialize_weights()\n",
        "\n",
        "epochs=10\n",
        "acc=[]\n",
        "e=[]\n",
        "for epoch in range(epochs):  \n",
        "  for i in range(len(train_imgs)):\n",
        "    train(train_imgs[i], train_1_hot[i])\n",
        "  print('EPOCH=',epoch+1,'Accuracy=',end=' ')\n",
        "  acc.append((accuracy(test_imgs,test_labels))[0])\n",
        "  e.append(epoch)\n",
        "  print(acc[epoch])"
      ],
      "execution_count": 39,
      "outputs": [
        {
          "output_type": "stream",
          "text": [
            "EPOCH= 1 Accuracy= 0.6855\n"
          ],
          "name": "stdout"
        },
        {
          "output_type": "stream",
          "text": [
            "/usr/local/lib/python3.6/dist-packages/ipykernel_launcher.py:2: RuntimeWarning: overflow encountered in power\n",
            "  \n"
          ],
          "name": "stderr"
        },
        {
          "output_type": "stream",
          "text": [
            "EPOCH= 2 Accuracy= 0.676\n",
            "EPOCH= 3 Accuracy= 0.6872\n",
            "EPOCH= 4 Accuracy= 0.6127\n",
            "EPOCH= 5 Accuracy= 0.7186\n",
            "EPOCH= 6 Accuracy= 0.7441\n",
            "EPOCH= 7 Accuracy= 0.6901\n",
            "EPOCH= 8 Accuracy= 0.6728\n",
            "EPOCH= 9 Accuracy= 0.6858\n",
            "EPOCH= 10 Accuracy= 0.7189\n"
          ],
          "name": "stdout"
        }
      ]
    },
    {
      "metadata": {
        "colab_type": "code",
        "outputId": "cc3f583d-43c3-4661-d0e6-8e560bfb621d",
        "id": "Gqy0KsxLn2cG",
        "colab": {
          "base_uri": "https://localhost:8080/",
          "height": 295
        }
      },
      "cell_type": "code",
      "source": [
        "plt.plot(e,acc)\n",
        "plt.xlabel('EPOCHS')\n",
        "plt.ylabel('ACCURACY')\n",
        "plt.title('ACCURACY GRAPH')\n",
        "plt.show()"
      ],
      "execution_count": 40,
      "outputs": [
        {
          "output_type": "display_data",
          "data": {
            "image/png": "[encoded data removed]",
            "text/plain": [
              "<Figure size 432x288 with 1 Axes>"
            ]
          },
          "metadata": {
            "tags": []
          }
        }
      ]
    },
    {
      "metadata": {
        "colab_type": "code",
        "outputId": "29edeb3e-67d2-44d4-9136-8524d85894bd",
        "id": "AqWwPCYLn2cR",
        "colab": {
          "base_uri": "https://localhost:8080/",
          "height": 237
        }
      },
      "cell_type": "code",
      "source": [
        "#Predicting Value\n",
        "\n",
        "for i in range(10):\n",
        "  highest,predicted=cost_function(test_imgs[i])\n",
        "  print('predicted=',predicted,' value=',highest,' actual=',int(test_labels[i][0]))\n"
      ],
      "execution_count": 48,
      "outputs": [
        {
          "output_type": "stream",
          "text": [
            "predicted= 0  value= 0.7136874619011491  actual= 0\n",
            "predicted= 1  value= 0.9930232707516224  actual= 1\n",
            "predicted= 2  value= 0.48307269559649096  actual= 2\n",
            "predicted= 2  value= 0.3037717772060379  actual= 2\n",
            "predicted= 2  value= 0.34652339344444993  actual= 3\n",
            "predicted= 2  value= 0.39381834852177333  actual= 2\n",
            "predicted= 8  value= 0.9872982895026149  actual= 8\n",
            "predicted= 6  value= 0.34495635749198167  actual= 6\n",
            "predicted= 5  value= 0.9750888839967796  actual= 5\n",
            "predicted= 0  value= 0.7136874619041425  actual= 0\n"
          ],
          "name": "stdout"
        },
        {
          "output_type": "stream",
          "text": [
            "/usr/local/lib/python3.6/dist-packages/ipykernel_launcher.py:2: RuntimeWarning: overflow encountered in power\n",
            "  \n"
          ],
          "name": "stderr"
        }
      ]
    },
    {
      "metadata": {
        "colab_type": "text",
        "id": "5PnztbBm81I5"
      },
      "cell_type": "markdown",
      "source": [
        "Image showing Error"
      ]
    },
    {
      "metadata": {
        "colab_type": "code",
        "outputId": "8c83a5f0-b304-4510-8e6a-b934c7217a81",
        "id": "_l4kxaCK81JP",
        "colab": {
          "base_uri": "https://localhost:8080/",
          "height": 324
        }
      },
      "cell_type": "code",
      "source": [
        "plt.imshow(test_imgs[8].reshape(28,28))\n",
        "print('Predicted:',cost_function(test_imgs[4])[1],' actual:',int(test_labels[4][0]))"
      ],
      "execution_count": 43,
      "outputs": [
        {
          "output_type": "stream",
          "text": [
            "Predicted: 2  actual: 3\n"
          ],
          "name": "stdout"
        },
        {
          "output_type": "stream",
          "text": [
            "/usr/local/lib/python3.6/dist-packages/ipykernel_launcher.py:2: RuntimeWarning: overflow encountered in power\n",
            "  \n"
          ],
          "name": "stderr"
        },
        {
          "output_type": "display_data",
          "data": {
            "image/png": "[encoded data removed]",
            "text/plain": [
              "<Figure size 432x288 with 1 Axes>"
            ]
          },
          "metadata": {
            "tags": []
          }
        }
      ]
    },
    {
      "metadata": {
        "id": "s5qdr32uuTiY",
        "colab_type": "code",
        "outputId": "d265d28f-f6e9-4426-a360-e4353ec2925d",
        "colab": {
          "base_uri": "https://localhost:8080/",
          "height": 54
        }
      },
      "cell_type": "code",
      "source": [
        "c=[]\n",
        "a,c=(accuracy(test_imgs,test_labels))"
      ],
      "execution_count": 60,
      "outputs": [
        {
          "output_type": "stream",
          "text": [
            "/usr/local/lib/python3.6/dist-packages/ipykernel_launcher.py:2: RuntimeWarning: overflow encountered in power\n",
            "  \n"
          ],
          "name": "stderr"
        }
      ]
    },
    {
      "metadata": {
        "colab_type": "code",
        "outputId": "567916e8-28ae-4aec-cb3b-dc83fbe45c30",
        "id": "Vn8eXPxSzIEs",
        "colab": {
          "base_uri": "https://localhost:8080/",
          "height": 295
        }
      },
      "cell_type": "code",
      "source": [
        "n=10\n",
        "l= list(range(n))\n",
        "colors=['red','green']\n",
        "for i in range(n):\n",
        "    plt.scatter(l[i],c[i], s=100, color = colors[c[i]])\n",
        "plt.xlabel('images')\n",
        "plt.ylabel('classification')\n",
        "plt.title('CORRECT Vs WRONG FOR 10 FASHION MNIST IMAGES')\n",
        "plt.show()"
      ],
      "execution_count": 49,
      "outputs": [
        {
          "output_type": "display_data",
          "data": {
            "image/png": "[encoded data removed]",
            "text/plain": [
              "<Figure size 432x288 with 1 Axes>"
            ]
          },
          "metadata": {
            "tags": []
          }
        }
      ]
    },
    {
      "metadata": {
        "colab_type": "code",
        "outputId": "dd0f5d1b-5c49-4934-e64b-4d4935ecacd0",
        "id": "ueDl7fm1zIE5",
        "colab": {
          "base_uri": "https://localhost:8080/",
          "height": 295
        }
      },
      "cell_type": "code",
      "source": [
        "n=100\n",
        "l= list(range(n))\n",
        "colors=['red','green']\n",
        "for i in range(n):\n",
        "    plt.scatter(l[i],c[i], s=10, color = colors[c[i]])\n",
        "plt.xlabel('images')\n",
        "plt.ylabel('classification')\n",
        "plt.title('CORRECT Vs WRONG  FOR 100 FASHION MNIST IMAGES')\n",
        "plt.show()"
      ],
      "execution_count": 50,
      "outputs": [
        {
          "output_type": "display_data",
          "data": {
            "image/png": "[encoded data removed]",
            "text/plain": [
              "<Figure size 432x288 with 1 Axes>"
            ]
          },
          "metadata": {
            "tags": []
          }
        }
      ]
    },
    {
      "metadata": {
        "colab_type": "code",
        "outputId": "b230edc4-8436-449b-f7ec-547136c0a45f",
        "id": "sQcTqUfyzIE_",
        "colab": {
          "base_uri": "https://localhost:8080/",
          "height": 295
        }
      },
      "cell_type": "code",
      "source": [
        "n=1000\n",
        "l= list(range(n))\n",
        "colors=['red','green']\n",
        "for i in range(n):\n",
        "    plt.scatter(l[i],c[i], s=10, color = colors[c[i]])\n",
        "plt.xlabel('images')\n",
        "plt.ylabel('classification')\n",
        "plt.title('CORRECT Vs WRONG  FOR 1000 FASHION MNIST IMAGES')\n",
        "plt.show()"
      ],
      "execution_count": 51,
      "outputs": [
        {
          "output_type": "display_data",
          "data": {
            "image/png": "[encoded data removed]",
            "text/plain": [
              "<Figure size 432x288 with 1 Axes>"
            ]
          },
          "metadata": {
            "tags": []
          }
        }
      ]
    },
    {
      "metadata": {
        "id": "pAQAbdLtn0ir",
        "colab_type": "text"
      },
      "cell_type": "markdown",
      "source": [
        "# INBUILT FUNCTION\n",
        "\n"
      ]
    },
    {
      "metadata": {
        "id": "EEIXQo577ly-",
        "colab_type": "code",
        "outputId": "3b38332c-caea-4689-c544-6201aca35eb8",
        "colab": {
          "base_uri": "https://localhost:8080/",
          "height": 412
        }
      },
      "cell_type": "code",
      "source": [
        "!pip install tensorflow"
      ],
      "execution_count": 0,
      "outputs": [
        {
          "output_type": "stream",
          "text": [
            "Requirement already satisfied: tensorflow in /usr/local/lib/python3.6/dist-packages (1.13.1)\n",
            "Requirement already satisfied: absl-py>=0.1.6 in /usr/local/lib/python3.6/dist-packages (from tensorflow) (0.7.1)\n",
            "Requirement already satisfied: numpy>=1.13.3 in /usr/local/lib/python3.6/dist-packages (from tensorflow) (1.14.6)\n",
            "Requirement already satisfied: tensorflow-estimator<1.14.0rc0,>=1.13.0 in /usr/local/lib/python3.6/dist-packages (from tensorflow) (1.13.0)\n",
            "Requirement already satisfied: keras-preprocessing>=1.0.5 in /usr/local/lib/python3.6/dist-packages (from tensorflow) (1.0.9)\n",
            "Requirement already satisfied: wheel>=0.26 in /usr/local/lib/python3.6/dist-packages (from tensorflow) (0.33.1)\n",
            "Requirement already satisfied: keras-applications>=1.0.6 in /usr/local/lib/python3.6/dist-packages (from tensorflow) (1.0.7)\n",
            "Requirement already satisfied: six>=1.10.0 in /usr/local/lib/python3.6/dist-packages (from tensorflow) (1.11.0)\n",
            "Requirement already satisfied: termcolor>=1.1.0 in /usr/local/lib/python3.6/dist-packages (from tensorflow) (1.1.0)\n",
            "Requirement already satisfied: tensorboard<1.14.0,>=1.13.0 in /usr/local/lib/python3.6/dist-packages (from tensorflow) (1.13.1)\n",
            "Requirement already satisfied: astor>=0.6.0 in /usr/local/lib/python3.6/dist-packages (from tensorflow) (0.7.1)\n",
            "Requirement already satisfied: grpcio>=1.8.6 in /usr/local/lib/python3.6/dist-packages (from tensorflow) (1.15.0)\n",
            "Requirement already satisfied: protobuf>=3.6.1 in /usr/local/lib/python3.6/dist-packages (from tensorflow) (3.7.0)\n",
            "Requirement already satisfied: gast>=0.2.0 in /usr/local/lib/python3.6/dist-packages (from tensorflow) (0.2.2)\n",
            "Requirement already satisfied: mock>=2.0.0 in /usr/local/lib/python3.6/dist-packages (from tensorflow-estimator<1.14.0rc0,>=1.13.0->tensorflow) (2.0.0)\n",
            "Requirement already satisfied: h5py in /usr/local/lib/python3.6/dist-packages (from keras-applications>=1.0.6->tensorflow) (2.8.0)\n",
            "Requirement already satisfied: werkzeug>=0.11.15 in /usr/local/lib/python3.6/dist-packages (from tensorboard<1.14.0,>=1.13.0->tensorflow) (0.14.1)\n",
            "Requirement already satisfied: markdown>=2.6.8 in /usr/local/lib/python3.6/dist-packages (from tensorboard<1.14.0,>=1.13.0->tensorflow) (3.0.1)\n",
            "Requirement already satisfied: setuptools in /usr/local/lib/python3.6/dist-packages (from protobuf>=3.6.1->tensorflow) (40.8.0)\n",
            "Requirement already satisfied: pbr>=0.11 in /usr/local/lib/python3.6/dist-packages (from mock>=2.0.0->tensorflow-estimator<1.14.0rc0,>=1.13.0->tensorflow) (5.1.3)\n"
          ],
          "name": "stdout"
        }
      ]
    },
    {
      "metadata": {
        "id": "pM476l5W7s4W",
        "colab_type": "code",
        "outputId": "906f8bae-ffe0-44c7-9f04-fa0927167950",
        "colab": {
          "base_uri": "https://localhost:8080/",
          "height": 324
        }
      },
      "cell_type": "code",
      "source": [
        "import matplotlib.pyplot as plt\n",
        "import tensorflow as tf\n",
        "mnist=tf.keras.datasets.mnist\n",
        "(x_train, y_train),(x_test, y_test) = mnist.load_data()\n",
        "\n",
        "\n",
        "plt.imshow(x_train[0],cmap=plt.cm.binary)\n",
        "plt.show()\n",
        "print(y_train[0])\n",
        "\n",
        "\n",
        "x_train = tf.keras.utils.normalize(x_train, axis=1)\n",
        "x_test = tf.keras.utils.normalize(x_test, axis=1)"
      ],
      "execution_count": 0,
      "outputs": [
        {
          "output_type": "stream",
          "text": [
            "Downloading data from https://storage.googleapis.com/tensorflow/tf-keras-datasets/mnist.npz\n",
            "11493376/11490434 [==============================] - 0s 0us/step\n"
          ],
          "name": "stdout"
        },
        {
          "output_type": "display_data",
          "data": {
            "image/png": "[encoded data removed]",
            "text/plain": [
              "<Figure size 432x288 with 1 Axes>"
            ]
          },
          "metadata": {
            "tags": []
          }
        },
        {
          "output_type": "stream",
          "text": [
            "5\n"
          ],
          "name": "stdout"
        }
      ]
    },
    {
      "metadata": {
        "id": "0AiKxOBk79J3",
        "colab_type": "code",
        "outputId": "de357e14-e010-405c-b788-f90bab3fb0f4",
        "colab": {
          "base_uri": "https://localhost:8080/",
          "height": 207
        }
      },
      "cell_type": "code",
      "source": [
        "x_input = x_train.reshape((x_train.shape[0], x_train.shape[1]*x_train.shape[2]))\n",
        "x_output = x_test.reshape((x_test.shape[0],  x_test.shape[1]*x_test.shape[2]))\n",
        "\n",
        "model = tf.keras.models.Sequential()\n",
        "model.add(tf.keras.layers.Flatten())\n",
        "model.add(tf.keras.layers.Dense(128, activation=tf.nn.sigmoid))\n",
        "model.add(tf.keras.layers.Dense(128, activation=tf.nn.sigmoid))\n",
        "model.add(tf.keras.layers.Dense(10, activation=tf.nn.softmax))\n",
        "model.compile(optimizer='adam',loss='sparse_categorical_crossentropy',metrics=['accuracy'])\n",
        "model.fit(x_input, y_train, epochs=3)"
      ],
      "execution_count": 0,
      "outputs": [
        {
          "output_type": "stream",
          "text": [
            "WARNING:tensorflow:From /usr/local/lib/python3.6/dist-packages/tensorflow/python/ops/resource_variable_ops.py:435: colocate_with (from tensorflow.python.framework.ops) is deprecated and will be removed in a future version.\n",
            "Instructions for updating:\n",
            "Colocations handled automatically by placer.\n",
            "Epoch 1/3\n",
            "60000/60000 [==============================] - 9s 145us/sample - loss: 0.5273 - acc: 0.8569\n",
            "Epoch 2/3\n",
            "60000/60000 [==============================] - 8s 134us/sample - loss: 0.2246 - acc: 0.9331\n",
            "Epoch 3/3\n",
            "60000/60000 [==============================] - 9s 148us/sample - loss: 0.1683 - acc: 0.9489\n"
          ],
          "name": "stdout"
        },
        {
          "output_type": "execute_result",
          "data": {
            "text/plain": [
              "<tensorflow.python.keras.callbacks.History at 0x7f892dcfffd0>"
            ]
          },
          "metadata": {
            "tags": []
          },
          "execution_count": 14
        }
      ]
    },
    {
      "metadata": {
        "id": "8VVZvoEg8LbB",
        "colab_type": "code",
        "outputId": "d35d8d40-e2b5-4b13-a320-925e2ef6babe",
        "colab": {
          "base_uri": "https://localhost:8080/",
          "height": 173
        }
      },
      "cell_type": "code",
      "source": [
        "val_loss, val_acc = model.evaluate(x_output, y_test)  # evaluate the out of sample data with model\n",
        "#print(val_loss)  # model's loss (error)\n",
        "print(val_acc)  # model's accuracy\n",
        "\n",
        "model.save('output.model')\n",
        "new_model = tf.keras.models.load_model('output.model')\n",
        "predictions = new_model.predict(x_output)\n",
        "#predictions\n",
        "\n",
        "import numpy as np\n",
        "for i in range(5):\n",
        "  print('predicted=',np.argmax(predictions[i]),'actual=',y_test[i])"
      ],
      "execution_count": 0,
      "outputs": [
        {
          "output_type": "stream",
          "text": [
            "10000/10000 [==============================] - 1s 53us/sample - loss: 0.1616 - acc: 0.9514\n",
            "0.9514\n",
            "WARNING:tensorflow:Sequential models without an `input_shape` passed to the first layer cannot reload their optimizer state. As a result, your model isstarting with a freshly initialized optimizer.\n",
            "predicted= 7 actual= 7\n",
            "predicted= 2 actual= 2\n",
            "predicted= 1 actual= 1\n",
            "predicted= 0 actual= 0\n",
            "predicted= 4 actual= 4\n"
          ],
          "name": "stdout"
        }
      ]
    },
    {
      "metadata": {
        "id": "E44TmVL378Qw",
        "colab_type": "code",
        "colab": {}
      },
      "cell_type": "code",
      "source": [
        ""
      ],
      "execution_count": 0,
      "outputs": []
    }
  ]
}